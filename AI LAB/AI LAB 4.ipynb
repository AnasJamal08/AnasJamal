{
 "cells": [
  {
   "cell_type": "markdown",
   "id": "9e1b57d3",
   "metadata": {},
   "source": [
    "# Lab Task 4"
   ]
  },
  {
   "cell_type": "code",
   "execution_count": 15,
   "id": "b4252e7b",
   "metadata": {},
   "outputs": [
    {
     "name": "stdout",
     "output_type": "stream",
     "text": [
      "The Path Is =  A E G \n",
      "***Goal Found***\n"
     ]
    }
   ],
   "source": [
    "# Using a Python dictionary to act as an adjacency list\n",
    "graph = {\n",
    "  'A' : [[8,'B'],[5,'E']],\n",
    "  'B' : [[2,'D'],[1,'C']],\n",
    "  'E' : [[1,'G']],\n",
    "  'G' : [],\n",
    "  'C' : [[3,'F']],\n",
    "  'F' : [[4,'G']],\n",
    "  'D' : [[3,'E']]\n",
    "  \n",
    "}  \n",
    "print(\"The Path Is = \",end = \" \")\n",
    "found=0\n",
    "visited = set()\n",
    "def dfs(visited, graph, node,goal):\n",
    "    global found\n",
    "    if found==1:\n",
    "        return\n",
    "    elif node not in visited:\n",
    "        print(node,end=\" \")\n",
    "        if node ==goal:\n",
    "            print (\"\\n***Goal Found***\")\n",
    "            found=1 \n",
    "            return\n",
    "        visited.add(node)\n",
    "        templist=graph[node]\n",
    "        templist.sort()\n",
    "        for neighbour in templist:\n",
    "            if len(neighbour)>0:\n",
    "                dfs(visited, graph,neighbour[1],'G')\n",
    "dfs(visited, graph, 'A','G')"
   ]
  },
  {
   "cell_type": "markdown",
   "id": "f313cc52",
   "metadata": {},
   "source": [
    "# DFS"
   ]
  },
  {
   "cell_type": "code",
   "execution_count": 5,
   "id": "91d8c852",
   "metadata": {},
   "outputs": [
    {
     "name": "stdout",
     "output_type": "stream",
     "text": [
      "Following is the Depth-First Search\n",
      "5\n",
      "3\n",
      "2\n",
      "4\n",
      "8\n",
      "7\n"
     ]
    }
   ],
   "source": [
    "# Using a Python dictionary to act as an adjacency list\n",
    "graph = {\n",
    "  '5' : ['3','7'],\n",
    "  '3' : ['2', '4'],\n",
    "  '7' : ['8'],\n",
    "  '2' : [],\n",
    "  '4' : ['8'],\n",
    "  '8' : []\n",
    "}\n",
    "\n",
    "visited = set() # Set to keep track of visited nodes of graph.\n",
    "\n",
    "def dfs(visited, graph, node):  #function for dfs \n",
    "    if node not in visited:\n",
    "        print (node)\n",
    "        visited.add(node)\n",
    "        for neighbour in graph[node]:\n",
    "            dfs(visited, graph, neighbour)\n",
    "\n",
    "# Driver Code\n",
    "print(\"Following is the Depth-First Search\")\n",
    "dfs(visited, graph, '5')\n",
    "\n"
   ]
  },
  {
   "cell_type": "markdown",
   "id": "4fcbe0ae",
   "metadata": {},
   "source": [
    "# BFS"
   ]
  },
  {
   "cell_type": "code",
   "execution_count": 10,
   "id": "a72c85e5",
   "metadata": {},
   "outputs": [
    {
     "name": "stdout",
     "output_type": "stream",
     "text": [
      "Following is the Breadth-First Search\n",
      "5 3 7 2 4 8 "
     ]
    }
   ],
   "source": [
    "graph = {\n",
    "  '5' : ['3','7'],\n",
    "  '3' : ['2', '4'],\n",
    "  '7' : ['8'],\n",
    "  '2' : [],\n",
    "  '4' : ['8'],\n",
    "  '8' : []\n",
    "}\n",
    "\n",
    "visited = [] # List for visited nodes.\n",
    "queue = []     #Initialize a queue\n",
    "\n",
    "def bfs(visited, graph, node): #function for BFS\n",
    "  visited.append(node)\n",
    "  queue.append(node)\n",
    "\n",
    "  while queue:          # Creating loop to visit each node\n",
    "    m = queue.pop(0) \n",
    "    print (m, end = \" \") \n",
    "\n",
    "    for neighbour in graph[m]:\n",
    "      if neighbour not in visited:\n",
    "        visited.append(neighbour)\n",
    "        queue.append(neighbour)\n",
    "\n",
    "# Driver Code\n",
    "print(\"Following is the Breadth-First Search\")\n",
    "bfs(visited, graph, '5')    # function calling"
   ]
  }
 ],
 "metadata": {
  "kernelspec": {
   "display_name": "Python 3.10.5 64-bit",
   "language": "python",
   "name": "python3"
  },
  "language_info": {
   "codemirror_mode": {
    "name": "ipython",
    "version": 3
   },
   "file_extension": ".py",
   "mimetype": "text/x-python",
   "name": "python",
   "nbconvert_exporter": "python",
   "pygments_lexer": "ipython3",
   "version": "3.10.5"
  },
  "vscode": {
   "interpreter": {
    "hash": "27980394de2e73eb555424585207081a78423f054e507342b11a6ff19537228f"
   }
  }
 },
 "nbformat": 4,
 "nbformat_minor": 5
}
